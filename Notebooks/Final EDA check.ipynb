{
 "cells": [
  {
   "cell_type": "code",
   "execution_count": 1,
   "metadata": {},
   "outputs": [],
   "source": [
    "import pandas as pd\n",
    "import matplotlib.pyplot as plt\n",
    "import seaborn as sns"
   ]
  },
  {
   "cell_type": "code",
   "execution_count": 2,
   "metadata": {},
   "outputs": [],
   "source": [
    "df = pd.read_csv('../Datasets/FinalFinal.csv')"
   ]
  },
  {
   "cell_type": "code",
   "execution_count": 3,
   "metadata": {},
   "outputs": [
    {
     "data": {
      "text/html": [
       "<div>\n",
       "<style scoped>\n",
       "    .dataframe tbody tr th:only-of-type {\n",
       "        vertical-align: middle;\n",
       "    }\n",
       "\n",
       "    .dataframe tbody tr th {\n",
       "        vertical-align: top;\n",
       "    }\n",
       "\n",
       "    .dataframe thead th {\n",
       "        text-align: right;\n",
       "    }\n",
       "</style>\n",
       "<table border=\"1\" class=\"dataframe\">\n",
       "  <thead>\n",
       "    <tr style=\"text-align: right;\">\n",
       "      <th></th>\n",
       "      <th>crop</th>\n",
       "      <th>disease history</th>\n",
       "      <th>msp</th>\n",
       "      <th>climate_conditions</th>\n",
       "      <th>rainfall</th>\n",
       "      <th>nitrogen</th>\n",
       "      <th>phosphorus</th>\n",
       "      <th>potassium</th>\n",
       "      <th>Season</th>\n",
       "      <th>soil_conditions</th>\n",
       "      <th>Type</th>\n",
       "      <th>Unnamed: 11</th>\n",
       "      <th>Unnamed: 12</th>\n",
       "    </tr>\n",
       "  </thead>\n",
       "  <tbody>\n",
       "    <tr>\n",
       "      <th>0</th>\n",
       "      <td>maize</td>\n",
       "      <td>leaf blight</td>\n",
       "      <td>1750</td>\n",
       "      <td>23</td>\n",
       "      <td>650</td>\n",
       "      <td>269</td>\n",
       "      <td>112</td>\n",
       "      <td>269</td>\n",
       "      <td>kharif</td>\n",
       "      <td>blacksoil</td>\n",
       "      <td>1</td>\n",
       "      <td>NaN</td>\n",
       "      <td>NaN</td>\n",
       "    </tr>\n",
       "    <tr>\n",
       "      <th>1</th>\n",
       "      <td>cotton</td>\n",
       "      <td>boll weevil</td>\n",
       "      <td>5150</td>\n",
       "      <td>23</td>\n",
       "      <td>1000</td>\n",
       "      <td>245</td>\n",
       "      <td>42</td>\n",
       "      <td>67</td>\n",
       "      <td>kharif</td>\n",
       "      <td>blacksoil</td>\n",
       "      <td>2</td>\n",
       "      <td>NaN</td>\n",
       "      <td>NaN</td>\n",
       "    </tr>\n",
       "    <tr>\n",
       "      <th>2</th>\n",
       "      <td>wheat</td>\n",
       "      <td>leaf rust , spike blight , saw fly</td>\n",
       "      <td>1840</td>\n",
       "      <td>24</td>\n",
       "      <td>750</td>\n",
       "      <td>202</td>\n",
       "      <td>73</td>\n",
       "      <td>173</td>\n",
       "      <td>rabi</td>\n",
       "      <td>alluvialsoil</td>\n",
       "      <td>3</td>\n",
       "      <td>NaN</td>\n",
       "      <td>NaN</td>\n",
       "    </tr>\n",
       "    <tr>\n",
       "      <th>3</th>\n",
       "      <td>paddy</td>\n",
       "      <td>rice blast , shealth blast</td>\n",
       "      <td>1750</td>\n",
       "      <td>25</td>\n",
       "      <td>675</td>\n",
       "      <td>18</td>\n",
       "      <td>3</td>\n",
       "      <td>18</td>\n",
       "      <td>kharif</td>\n",
       "      <td>alluvialsoil</td>\n",
       "      <td>4</td>\n",
       "      <td>NaN</td>\n",
       "      <td>NaN</td>\n",
       "    </tr>\n",
       "    <tr>\n",
       "      <th>4</th>\n",
       "      <td>barley</td>\n",
       "      <td>bacterial blight , powdery mildew</td>\n",
       "      <td>1440</td>\n",
       "      <td>35</td>\n",
       "      <td>550</td>\n",
       "      <td>60</td>\n",
       "      <td>7</td>\n",
       "      <td>7</td>\n",
       "      <td>rabi</td>\n",
       "      <td>alluvialsoil</td>\n",
       "      <td>5</td>\n",
       "      <td>NaN</td>\n",
       "      <td>NaN</td>\n",
       "    </tr>\n",
       "  </tbody>\n",
       "</table>\n",
       "</div>"
      ],
      "text/plain": [
       "     crop                     disease history   msp  climate_conditions  \\\n",
       "0   maize                         leaf blight  1750                  23   \n",
       "1  cotton                         boll weevil  5150                  23   \n",
       "2   wheat  leaf rust , spike blight , saw fly  1840                  24   \n",
       "3   paddy         rice blast , shealth blast   1750                  25   \n",
       "4  barley   bacterial blight , powdery mildew  1440                  35   \n",
       "\n",
       "   rainfall  nitrogen  phosphorus  potassium  Season soil_conditions  Type  \\\n",
       "0       650       269         112        269  kharif       blacksoil     1   \n",
       "1      1000       245          42         67  kharif       blacksoil     2   \n",
       "2       750       202          73        173    rabi    alluvialsoil     3   \n",
       "3       675        18           3         18  kharif    alluvialsoil     4   \n",
       "4       550        60           7          7    rabi    alluvialsoil     5   \n",
       "\n",
       "   Unnamed: 11  Unnamed: 12  \n",
       "0          NaN          NaN  \n",
       "1          NaN          NaN  \n",
       "2          NaN          NaN  \n",
       "3          NaN          NaN  \n",
       "4          NaN          NaN  "
      ]
     },
     "execution_count": 3,
     "metadata": {},
     "output_type": "execute_result"
    }
   ],
   "source": [
    "df.head()\n"
   ]
  },
  {
   "cell_type": "code",
   "execution_count": 4,
   "metadata": {},
   "outputs": [
    {
     "data": {
      "text/plain": [
       "Index(['crop', 'disease history', 'msp', 'climate_conditions', 'rainfall',\n",
       "       'nitrogen', 'phosphorus', 'potassium', 'Season', 'soil_conditions',\n",
       "       'Type', 'Unnamed: 11', 'Unnamed: 12'],\n",
       "      dtype='object')"
      ]
     },
     "execution_count": 4,
     "metadata": {},
     "output_type": "execute_result"
    }
   ],
   "source": [
    "df.columns"
   ]
  },
  {
   "cell_type": "code",
   "execution_count": 7,
   "metadata": {},
   "outputs": [],
   "source": [
    "df = df[[ 'rainfall','nitrogen', 'phosphorus', 'potassium', 'Season', 'soil_conditions','crop']]"
   ]
  },
  {
   "cell_type": "markdown",
   "metadata": {},
   "source": [
    "__Will ignore finalfinal.csv due to length of the dateset__"
   ]
  },
  {
   "cell_type": "code",
   "execution_count": 18,
   "metadata": {},
   "outputs": [],
   "source": [
    "df = pd.read_csv('../Datasets/cpdata.csv')"
   ]
  },
  {
   "cell_type": "code",
   "execution_count": 19,
   "metadata": {},
   "outputs": [
    {
     "data": {
      "text/html": [
       "<div>\n",
       "<style scoped>\n",
       "    .dataframe tbody tr th:only-of-type {\n",
       "        vertical-align: middle;\n",
       "    }\n",
       "\n",
       "    .dataframe tbody tr th {\n",
       "        vertical-align: top;\n",
       "    }\n",
       "\n",
       "    .dataframe thead th {\n",
       "        text-align: right;\n",
       "    }\n",
       "</style>\n",
       "<table border=\"1\" class=\"dataframe\">\n",
       "  <thead>\n",
       "    <tr style=\"text-align: right;\">\n",
       "      <th></th>\n",
       "      <th>temperature</th>\n",
       "      <th>humidity</th>\n",
       "      <th>ph</th>\n",
       "      <th>rainfall</th>\n",
       "      <th>label</th>\n",
       "    </tr>\n",
       "  </thead>\n",
       "  <tbody>\n",
       "    <tr>\n",
       "      <th>0</th>\n",
       "      <td>20.879744</td>\n",
       "      <td>82.002744</td>\n",
       "      <td>6.502985</td>\n",
       "      <td>202.935536</td>\n",
       "      <td>rice</td>\n",
       "    </tr>\n",
       "    <tr>\n",
       "      <th>1</th>\n",
       "      <td>21.770462</td>\n",
       "      <td>80.319644</td>\n",
       "      <td>7.038096</td>\n",
       "      <td>226.655537</td>\n",
       "      <td>rice</td>\n",
       "    </tr>\n",
       "    <tr>\n",
       "      <th>2</th>\n",
       "      <td>23.004459</td>\n",
       "      <td>82.320763</td>\n",
       "      <td>7.840207</td>\n",
       "      <td>263.964248</td>\n",
       "      <td>rice</td>\n",
       "    </tr>\n",
       "    <tr>\n",
       "      <th>3</th>\n",
       "      <td>26.491096</td>\n",
       "      <td>80.158363</td>\n",
       "      <td>6.980401</td>\n",
       "      <td>242.864034</td>\n",
       "      <td>rice</td>\n",
       "    </tr>\n",
       "    <tr>\n",
       "      <th>4</th>\n",
       "      <td>20.130175</td>\n",
       "      <td>81.604873</td>\n",
       "      <td>7.628473</td>\n",
       "      <td>262.717340</td>\n",
       "      <td>rice</td>\n",
       "    </tr>\n",
       "  </tbody>\n",
       "</table>\n",
       "</div>"
      ],
      "text/plain": [
       "   temperature   humidity        ph    rainfall label\n",
       "0    20.879744  82.002744  6.502985  202.935536  rice\n",
       "1    21.770462  80.319644  7.038096  226.655537  rice\n",
       "2    23.004459  82.320763  7.840207  263.964248  rice\n",
       "3    26.491096  80.158363  6.980401  242.864034  rice\n",
       "4    20.130175  81.604873  7.628473  262.717340  rice"
      ]
     },
     "execution_count": 19,
     "metadata": {},
     "output_type": "execute_result"
    }
   ],
   "source": [
    "df.head()\n"
   ]
  },
  {
   "cell_type": "code",
   "execution_count": 30,
   "metadata": {},
   "outputs": [
    {
     "data": {
      "text/plain": [
       "Index(['temperature', 'humidity', 'ph', 'rainfall', 'label'], dtype='object')"
      ]
     },
     "execution_count": 30,
     "metadata": {},
     "output_type": "execute_result"
    }
   ],
   "source": [
    "df.columns"
   ]
  },
  {
   "cell_type": "code",
   "execution_count": 20,
   "metadata": {},
   "outputs": [
    {
     "data": {
      "text/html": [
       "<div>\n",
       "<style scoped>\n",
       "    .dataframe tbody tr th:only-of-type {\n",
       "        vertical-align: middle;\n",
       "    }\n",
       "\n",
       "    .dataframe tbody tr th {\n",
       "        vertical-align: top;\n",
       "    }\n",
       "\n",
       "    .dataframe thead th {\n",
       "        text-align: right;\n",
       "    }\n",
       "</style>\n",
       "<table border=\"1\" class=\"dataframe\">\n",
       "  <thead>\n",
       "    <tr style=\"text-align: right;\">\n",
       "      <th></th>\n",
       "      <th>temperature</th>\n",
       "      <th>humidity</th>\n",
       "      <th>ph</th>\n",
       "      <th>rainfall</th>\n",
       "    </tr>\n",
       "  </thead>\n",
       "  <tbody>\n",
       "    <tr>\n",
       "      <th>temperature</th>\n",
       "      <td>1.000000</td>\n",
       "      <td>-0.076999</td>\n",
       "      <td>0.017024</td>\n",
       "      <td>-0.055143</td>\n",
       "    </tr>\n",
       "    <tr>\n",
       "      <th>humidity</th>\n",
       "      <td>-0.076999</td>\n",
       "      <td>1.000000</td>\n",
       "      <td>-0.002359</td>\n",
       "      <td>0.192074</td>\n",
       "    </tr>\n",
       "    <tr>\n",
       "      <th>ph</th>\n",
       "      <td>0.017024</td>\n",
       "      <td>-0.002359</td>\n",
       "      <td>1.000000</td>\n",
       "      <td>-0.288598</td>\n",
       "    </tr>\n",
       "    <tr>\n",
       "      <th>rainfall</th>\n",
       "      <td>-0.055143</td>\n",
       "      <td>0.192074</td>\n",
       "      <td>-0.288598</td>\n",
       "      <td>1.000000</td>\n",
       "    </tr>\n",
       "  </tbody>\n",
       "</table>\n",
       "</div>"
      ],
      "text/plain": [
       "             temperature  humidity        ph  rainfall\n",
       "temperature     1.000000 -0.076999  0.017024 -0.055143\n",
       "humidity       -0.076999  1.000000 -0.002359  0.192074\n",
       "ph              0.017024 -0.002359  1.000000 -0.288598\n",
       "rainfall       -0.055143  0.192074 -0.288598  1.000000"
      ]
     },
     "execution_count": 20,
     "metadata": {},
     "output_type": "execute_result"
    }
   ],
   "source": [
    "df.corr()"
   ]
  },
  {
   "cell_type": "code",
   "execution_count": 26,
   "metadata": {},
   "outputs": [
    {
     "data": {
      "text/plain": [
       "array([28, 30, 11, 16, 23, 21,  9,  7,  4,  5,  6, 12, 14, 15, 17,  8, 10,\n",
       "        3,  1,  0, 13,  2, 19, 20, 18, 22, 24, 25, 26, 27, 29])"
      ]
     },
     "execution_count": 26,
     "metadata": {},
     "output_type": "execute_result"
    }
   ],
   "source": [
    "df.label.unique()"
   ]
  },
  {
   "cell_type": "code",
   "execution_count": 24,
   "metadata": {},
   "outputs": [],
   "source": [
    "df['label'] = df['label'].astype('category').cat.codes"
   ]
  },
  {
   "cell_type": "code",
   "execution_count": 25,
   "metadata": {},
   "outputs": [
    {
     "data": {
      "text/html": [
       "<div>\n",
       "<style scoped>\n",
       "    .dataframe tbody tr th:only-of-type {\n",
       "        vertical-align: middle;\n",
       "    }\n",
       "\n",
       "    .dataframe tbody tr th {\n",
       "        vertical-align: top;\n",
       "    }\n",
       "\n",
       "    .dataframe thead th {\n",
       "        text-align: right;\n",
       "    }\n",
       "</style>\n",
       "<table border=\"1\" class=\"dataframe\">\n",
       "  <thead>\n",
       "    <tr style=\"text-align: right;\">\n",
       "      <th></th>\n",
       "      <th>temperature</th>\n",
       "      <th>humidity</th>\n",
       "      <th>ph</th>\n",
       "      <th>rainfall</th>\n",
       "      <th>label</th>\n",
       "    </tr>\n",
       "  </thead>\n",
       "  <tbody>\n",
       "    <tr>\n",
       "      <th>temperature</th>\n",
       "      <td>1.000000</td>\n",
       "      <td>-0.076999</td>\n",
       "      <td>0.017024</td>\n",
       "      <td>-0.055143</td>\n",
       "      <td>-0.096094</td>\n",
       "    </tr>\n",
       "    <tr>\n",
       "      <th>humidity</th>\n",
       "      <td>-0.076999</td>\n",
       "      <td>1.000000</td>\n",
       "      <td>-0.002359</td>\n",
       "      <td>0.192074</td>\n",
       "      <td>0.285922</td>\n",
       "    </tr>\n",
       "    <tr>\n",
       "      <th>ph</th>\n",
       "      <td>0.017024</td>\n",
       "      <td>-0.002359</td>\n",
       "      <td>1.000000</td>\n",
       "      <td>-0.288598</td>\n",
       "      <td>-0.096932</td>\n",
       "    </tr>\n",
       "    <tr>\n",
       "      <th>rainfall</th>\n",
       "      <td>-0.055143</td>\n",
       "      <td>0.192074</td>\n",
       "      <td>-0.288598</td>\n",
       "      <td>1.000000</td>\n",
       "      <td>-0.003235</td>\n",
       "    </tr>\n",
       "    <tr>\n",
       "      <th>label</th>\n",
       "      <td>-0.096094</td>\n",
       "      <td>0.285922</td>\n",
       "      <td>-0.096932</td>\n",
       "      <td>-0.003235</td>\n",
       "      <td>1.000000</td>\n",
       "    </tr>\n",
       "  </tbody>\n",
       "</table>\n",
       "</div>"
      ],
      "text/plain": [
       "             temperature  humidity        ph  rainfall     label\n",
       "temperature     1.000000 -0.076999  0.017024 -0.055143 -0.096094\n",
       "humidity       -0.076999  1.000000 -0.002359  0.192074  0.285922\n",
       "ph              0.017024 -0.002359  1.000000 -0.288598 -0.096932\n",
       "rainfall       -0.055143  0.192074 -0.288598  1.000000 -0.003235\n",
       "label          -0.096094  0.285922 -0.096932 -0.003235  1.000000"
      ]
     },
     "execution_count": 25,
     "metadata": {},
     "output_type": "execute_result"
    }
   ],
   "source": [
    "df.corr()"
   ]
  },
  {
   "cell_type": "code",
   "execution_count": 33,
   "metadata": {},
   "outputs": [],
   "source": [
    "features = df[['temperature', 'humidity', 'ph', 'rainfall']]\n",
    "labels = df['label']"
   ]
  },
  {
   "cell_type": "code",
   "execution_count": 34,
   "metadata": {},
   "outputs": [],
   "source": [
    "from sklearn.model_selection import train_test_split"
   ]
  },
  {
   "cell_type": "code",
   "execution_count": 92,
   "metadata": {},
   "outputs": [],
   "source": [
    "Xtrain, Xtest, Ytrain, Ytest = train_test_split(features,labels,test_size = 0.3,random_state =2)"
   ]
  },
  {
   "cell_type": "code",
   "execution_count": 90,
   "metadata": {},
   "outputs": [],
   "source": [
    "from sklearn.tree import DecisionTreeClassifier\n",
    "from sklearn import metrics"
   ]
  },
  {
   "cell_type": "code",
   "execution_count": 93,
   "metadata": {},
   "outputs": [
    {
     "name": "stdout",
     "output_type": "stream",
     "text": [
      "DecisionTrees's Accuracy for depth  5  is:  0.6924731182795699\n",
      "DecisionTrees's Accuracy for depth  6  is:  0.7935483870967742\n",
      "DecisionTrees's Accuracy for depth  7  is:  0.8709677419354839\n",
      "DecisionTrees's Accuracy for depth  8  is:  0.9010752688172043\n",
      "DecisionTrees's Accuracy for depth  9  is:  0.9193548387096774\n",
      "DecisionTrees's Accuracy for depth  10  is:  0.9172043010752688\n",
      "DecisionTrees's Accuracy for depth  11  is:  0.9043010752688172\n",
      "DecisionTrees's Accuracy for depth  12  is:  0.9053763440860215\n",
      "DecisionTrees's Accuracy for depth  13  is:  0.9043010752688172\n",
      "DecisionTrees's Accuracy for depth  14  is:  0.9075268817204301\n"
     ]
    }
   ],
   "source": [
    "for i in range(5,15):\n",
    "    dt = DecisionTreeClassifier(criterion=\"entropy\",max_depth=i)\n",
    "    dt.fit(Xtrain,Ytrain)\n",
    "    predicted_values = dt.predict(Xtest)\n",
    "    x =  metrics.accuracy_score(Ytest, predicted_values)\n",
    "    print(\"DecisionTrees's Accuracy for depth \",i,\" is: \", x)\n",
    "\n"
   ]
  },
  {
   "cell_type": "markdown",
   "metadata": {},
   "source": [
    "# Max accuracy of 91% for depth 9 for split 0.3 of dataset"
   ]
  }
 ],
 "metadata": {
  "kernelspec": {
   "display_name": "Python 3",
   "language": "python",
   "name": "python3"
  },
  "language_info": {
   "codemirror_mode": {
    "name": "ipython",
    "version": 3
   },
   "file_extension": ".py",
   "mimetype": "text/x-python",
   "name": "python",
   "nbconvert_exporter": "python",
   "pygments_lexer": "ipython3",
   "version": "3.7.4"
  }
 },
 "nbformat": 4,
 "nbformat_minor": 2
}
