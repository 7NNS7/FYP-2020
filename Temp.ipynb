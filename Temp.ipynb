{
 "cells": [
  {
   "cell_type": "code",
   "execution_count": 1,
   "metadata": {},
   "outputs": [],
   "source": [
    "import matplotlib.pyplot as plt\n",
    "import seaborn as sns\n",
    "import pandas as pd"
   ]
  },
  {
   "cell_type": "code",
   "execution_count": 35,
   "metadata": {},
   "outputs": [],
   "source": [
    "df = pd.read_csv('test_file.csv')        "
   ]
  },
  {
   "cell_type": "code",
   "execution_count": 20,
   "metadata": {},
   "outputs": [
    {
     "data": {
      "text/html": [
       "<div>\n",
       "<style scoped>\n",
       "    .dataframe tbody tr th:only-of-type {\n",
       "        vertical-align: middle;\n",
       "    }\n",
       "\n",
       "    .dataframe tbody tr th {\n",
       "        vertical-align: top;\n",
       "    }\n",
       "\n",
       "    .dataframe thead th {\n",
       "        text-align: right;\n",
       "    }\n",
       "</style>\n",
       "<table border=\"1\" class=\"dataframe\">\n",
       "  <thead>\n",
       "    <tr style=\"text-align: right;\">\n",
       "      <th></th>\n",
       "      <th>CO2</th>\n",
       "      <th>HCHO</th>\n",
       "      <th>PM1</th>\n",
       "      <th>PM10</th>\n",
       "      <th>PM25</th>\n",
       "      <th>SLOPE</th>\n",
       "      <th>TVOC</th>\n",
       "      <th>__v</th>\n",
       "      <th>_id</th>\n",
       "      <th>createdAt</th>\n",
       "      <th>devId</th>\n",
       "      <th>lastUpdate</th>\n",
       "      <th>name</th>\n",
       "      <th>ssid</th>\n",
       "      <th>systemTick</th>\n",
       "      <th>updatedAt</th>\n",
       "      <th>userId</th>\n",
       "    </tr>\n",
       "  </thead>\n",
       "  <tbody>\n",
       "    <tr>\n",
       "      <th>82877</th>\n",
       "      <td>518</td>\n",
       "      <td>20</td>\n",
       "      <td>14.16</td>\n",
       "      <td>31.84</td>\n",
       "      <td>24.84</td>\n",
       "      <td>100</td>\n",
       "      <td>0.140675</td>\n",
       "      <td>0</td>\n",
       "      <td>5e38da7d82521d070f099149</td>\n",
       "      <td>2020-02-04 02:44:13.945</td>\n",
       "      <td>D1-f7df3217ef2a71634ca8a6b388a7f9b9</td>\n",
       "      <td>Tue Feb 04 2020 02:44:13 GMT+0000</td>\n",
       "      <td>Maersk_8F_AW</td>\n",
       "      <td>JioFi3_3AFCBB_AMBEE</td>\n",
       "      <td>329569716</td>\n",
       "      <td>2020-02-04 02:44:13.941</td>\n",
       "      <td>5d19ae2cfd7867b0813d816d</td>\n",
       "    </tr>\n",
       "    <tr>\n",
       "      <th>82878</th>\n",
       "      <td>518</td>\n",
       "      <td>20</td>\n",
       "      <td>13.37</td>\n",
       "      <td>27.76</td>\n",
       "      <td>24.00</td>\n",
       "      <td>100</td>\n",
       "      <td>0.140010</td>\n",
       "      <td>0</td>\n",
       "      <td>5e38da6882521d070f09911c</td>\n",
       "      <td>2020-02-04 02:43:52.926</td>\n",
       "      <td>D1-f7df3217ef2a71634ca8a6b388a7f9b9</td>\n",
       "      <td>Tue Feb 04 2020 02:43:52 GMT+0000</td>\n",
       "      <td>Maersk_8F_AW</td>\n",
       "      <td>JioFi3_3AFCBB_AMBEE</td>\n",
       "      <td>329548716</td>\n",
       "      <td>2020-02-04 02:43:52.919</td>\n",
       "      <td>5d19ae2cfd7867b0813d816d</td>\n",
       "    </tr>\n",
       "    <tr>\n",
       "      <th>82879</th>\n",
       "      <td>518</td>\n",
       "      <td>20</td>\n",
       "      <td>14.83</td>\n",
       "      <td>31.00</td>\n",
       "      <td>26.40</td>\n",
       "      <td>100</td>\n",
       "      <td>0.140895</td>\n",
       "      <td>0</td>\n",
       "      <td>5e38da5a82521d070f099100</td>\n",
       "      <td>2020-02-04 02:43:38.863</td>\n",
       "      <td>D1-f7df3217ef2a71634ca8a6b388a7f9b9</td>\n",
       "      <td>Tue Feb 04 2020 02:43:38 GMT+0000</td>\n",
       "      <td>Maersk_8F_AW</td>\n",
       "      <td>JioFi3_3AFCBB_AMBEE</td>\n",
       "      <td>329534716</td>\n",
       "      <td>2020-02-04 02:43:38.859</td>\n",
       "      <td>5d19ae2cfd7867b0813d816d</td>\n",
       "    </tr>\n",
       "    <tr>\n",
       "      <th>82880</th>\n",
       "      <td>528</td>\n",
       "      <td>10</td>\n",
       "      <td>14.64</td>\n",
       "      <td>31.54</td>\n",
       "      <td>24.92</td>\n",
       "      <td>100</td>\n",
       "      <td>0.070263</td>\n",
       "      <td>0</td>\n",
       "      <td>5e38da4582521d070f0990de</td>\n",
       "      <td>2020-02-04 02:43:17.872</td>\n",
       "      <td>D1-f7df3217ef2a71634ca8a6b388a7f9b9</td>\n",
       "      <td>Tue Feb 04 2020 02:43:17 GMT+0000</td>\n",
       "      <td>Maersk_8F_AW</td>\n",
       "      <td>JioFi3_3AFCBB_AMBEE</td>\n",
       "      <td>329513716</td>\n",
       "      <td>2020-02-04 02:43:17.868</td>\n",
       "      <td>5d19ae2cfd7867b0813d816d</td>\n",
       "    </tr>\n",
       "    <tr>\n",
       "      <th>82881</th>\n",
       "      <td>528</td>\n",
       "      <td>20</td>\n",
       "      <td>14.46</td>\n",
       "      <td>34.58</td>\n",
       "      <td>29.48</td>\n",
       "      <td>100</td>\n",
       "      <td>0.140523</td>\n",
       "      <td>0</td>\n",
       "      <td>5e38da1b82521d070f099089</td>\n",
       "      <td>2020-02-04 02:42:35.819</td>\n",
       "      <td>D1-f7df3217ef2a71634ca8a6b388a7f9b9</td>\n",
       "      <td>Tue Feb 04 2020 02:42:35 GMT+0000</td>\n",
       "      <td>Maersk_8F_AW</td>\n",
       "      <td>JioFi3_3AFCBB_AMBEE</td>\n",
       "      <td>329471716</td>\n",
       "      <td>2020-02-04 02:42:35.814</td>\n",
       "      <td>5d19ae2cfd7867b0813d816d</td>\n",
       "    </tr>\n",
       "  </tbody>\n",
       "</table>\n",
       "</div>"
      ],
      "text/plain": [
       "       CO2  HCHO    PM1   PM10   PM25  SLOPE      TVOC  __v  \\\n",
       "82877  518    20  14.16  31.84  24.84    100  0.140675    0   \n",
       "82878  518    20  13.37  27.76  24.00    100  0.140010    0   \n",
       "82879  518    20  14.83  31.00  26.40    100  0.140895    0   \n",
       "82880  528    10  14.64  31.54  24.92    100  0.070263    0   \n",
       "82881  528    20  14.46  34.58  29.48    100  0.140523    0   \n",
       "\n",
       "                            _id                createdAt  \\\n",
       "82877  5e38da7d82521d070f099149  2020-02-04 02:44:13.945   \n",
       "82878  5e38da6882521d070f09911c  2020-02-04 02:43:52.926   \n",
       "82879  5e38da5a82521d070f099100  2020-02-04 02:43:38.863   \n",
       "82880  5e38da4582521d070f0990de  2020-02-04 02:43:17.872   \n",
       "82881  5e38da1b82521d070f099089  2020-02-04 02:42:35.819   \n",
       "\n",
       "                                     devId                         lastUpdate  \\\n",
       "82877  D1-f7df3217ef2a71634ca8a6b388a7f9b9  Tue Feb 04 2020 02:44:13 GMT+0000   \n",
       "82878  D1-f7df3217ef2a71634ca8a6b388a7f9b9  Tue Feb 04 2020 02:43:52 GMT+0000   \n",
       "82879  D1-f7df3217ef2a71634ca8a6b388a7f9b9  Tue Feb 04 2020 02:43:38 GMT+0000   \n",
       "82880  D1-f7df3217ef2a71634ca8a6b388a7f9b9  Tue Feb 04 2020 02:43:17 GMT+0000   \n",
       "82881  D1-f7df3217ef2a71634ca8a6b388a7f9b9  Tue Feb 04 2020 02:42:35 GMT+0000   \n",
       "\n",
       "               name                 ssid  systemTick                updatedAt  \\\n",
       "82877  Maersk_8F_AW  JioFi3_3AFCBB_AMBEE   329569716  2020-02-04 02:44:13.941   \n",
       "82878  Maersk_8F_AW  JioFi3_3AFCBB_AMBEE   329548716  2020-02-04 02:43:52.919   \n",
       "82879  Maersk_8F_AW  JioFi3_3AFCBB_AMBEE   329534716  2020-02-04 02:43:38.859   \n",
       "82880  Maersk_8F_AW  JioFi3_3AFCBB_AMBEE   329513716  2020-02-04 02:43:17.868   \n",
       "82881  Maersk_8F_AW  JioFi3_3AFCBB_AMBEE   329471716  2020-02-04 02:42:35.814   \n",
       "\n",
       "                         userId  \n",
       "82877  5d19ae2cfd7867b0813d816d  \n",
       "82878  5d19ae2cfd7867b0813d816d  \n",
       "82879  5d19ae2cfd7867b0813d816d  \n",
       "82880  5d19ae2cfd7867b0813d816d  \n",
       "82881  5d19ae2cfd7867b0813d816d  "
      ]
     },
     "execution_count": 20,
     "metadata": {},
     "output_type": "execute_result"
    }
   ],
   "source": [
    "df.tail()"
   ]
  },
  {
   "cell_type": "code",
   "execution_count": 36,
   "metadata": {},
   "outputs": [],
   "source": [
    "df['createdAt'] = pd.to_datetime(df['createdAt'])"
   ]
  },
  {
   "cell_type": "code",
   "execution_count": 37,
   "metadata": {},
   "outputs": [],
   "source": [
    "df = df.sort_values(by = ['createdAt'])"
   ]
  },
  {
   "cell_type": "code",
   "execution_count": 38,
   "metadata": {},
   "outputs": [],
   "source": [
    "df.set_index('createdAt',inplace=True)"
   ]
  },
  {
   "cell_type": "code",
   "execution_count": 28,
   "metadata": {},
   "outputs": [
    {
     "data": {
      "text/plain": [
       "[<matplotlib.lines.Line2D at 0x7fe0434398d0>]"
      ]
     },
     "execution_count": 28,
     "metadata": {},
     "output_type": "execute_result"
    },
    {
     "data": {
      "image/png": "[encoded data removed]",
      "text/plain": [
       "<Figure size 432x288 with 1 Axes>"
      ]
     },
     "metadata": {
      "needs_background": "light"
     },
     "output_type": "display_data"
    }
   ],
   "source": [
    "plt.plot(df['CO2'])"
   ]
  },
  {
   "cell_type": "code",
   "execution_count": 26,
   "metadata": {},
   "outputs": [
    {
     "data": {
      "text/plain": [
       "[<matplotlib.lines.Line2D at 0x7fe0434d9790>]"
      ]
     },
     "execution_count": 26,
     "metadata": {},
     "output_type": "execute_result"
    },
    {
     "data": {
      "image/png": "[encoded data removed]",
      "text/plain": [
       "<Figure size 432x288 with 1 Axes>"
      ]
     },
     "metadata": {
      "needs_background": "light"
     },
     "output_type": "display_data"
    }
   ],
   "source": [
    "plt.plot(df['PM1'])"
   ]
  },
  {
   "cell_type": "code",
   "execution_count": 42,
   "metadata": {},
   "outputs": [
    {
     "data": {
      "text/plain": [
       "[<matplotlib.lines.Line2D at 0x7fe03fe38410>]"
      ]
     },
     "execution_count": 42,
     "metadata": {},
     "output_type": "execute_result"
    },
    {
     "data": {
      "image/png": "[encoded data removed]",
      "text/plain": [
       "<Figure size 432x288 with 1 Axes>"
      ]
     },
     "metadata": {
      "needs_background": "light"
     },
     "output_type": "display_data"
    }
   ],
   "source": [
    "plt.plot(df['PM10'])"
   ]
  },
  {
   "cell_type": "code",
   "execution_count": 41,
   "metadata": {},
   "outputs": [],
   "source": [
    "df = df.resample('h').mean()"
   ]
  },
  {
   "cell_type": "code",
   "execution_count": null,
   "metadata": {},
   "outputs": [],
   "source": []
  }
 ],
 "metadata": {
  "kernelspec": {
   "display_name": "Python 3",
   "language": "python",
   "name": "python3"
  },
  "language_info": {
   "codemirror_mode": {
    "name": "ipython",
    "version": 3
   },
   "file_extension": ".py",
   "mimetype": "text/x-python",
   "name": "python",
   "nbconvert_exporter": "python",
   "pygments_lexer": "ipython3",
   "version": "3.7.4"
  }
 },
 "nbformat": 4,
 "nbformat_minor": 2
}
