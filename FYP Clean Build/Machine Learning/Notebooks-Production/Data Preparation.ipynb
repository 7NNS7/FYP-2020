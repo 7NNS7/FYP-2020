{
 "cells": [
  {
   "cell_type": "code",
   "execution_count": 1,
   "metadata": {},
   "outputs": [],
   "source": [
    "import pandas as pd"
   ]
  },
  {
   "cell_type": "code",
   "execution_count": 2,
   "metadata": {},
   "outputs": [],
   "source": [
    "crop = pd.read_csv('../Datasets/cpdata.csv')"
   ]
  },
  {
   "cell_type": "code",
   "execution_count": 3,
   "metadata": {},
   "outputs": [],
   "source": [
    "fert1 = pd.read_csv('../Datasets/Fertilizer.csv')"
   ]
  },
  {
   "cell_type": "code",
   "execution_count": 4,
   "metadata": {},
   "outputs": [
    {
     "data": {
      "text/plain": [
       "array(['rice', 'wheat', 'Mung Bean', 'Tea', 'millet', 'maize', 'Lentil',\n",
       "       'Jute', 'Coffee', 'Cotton', 'Ground Nut', 'Peas', 'Rubber',\n",
       "       'Sugarcane', 'Tobacco', 'Kidney Beans', 'Moth Beans', 'Coconut',\n",
       "       'Black gram', 'Adzuki Beans', 'Pigeon Peas', 'Chickpea', 'banana',\n",
       "       'grapes', 'apple', 'mango', 'muskmelon', 'orange', 'papaya',\n",
       "       'pomegranate', 'watermelon'], dtype=object)"
      ]
     },
     "execution_count": 4,
     "metadata": {},
     "output_type": "execute_result"
    }
   ],
   "source": [
    "crop.label.unique()"
   ]
  },
  {
   "cell_type": "code",
   "execution_count": 5,
   "metadata": {},
   "outputs": [
    {
     "data": {
      "text/plain": [
       "array(['Rice', 'Jowar(Sorghum)', 'Barley(JAV)', 'Maize',\n",
       "       'Ragi( naachnnii)', 'Chickpeas(Channa)', 'French Beans(Farasbi)',\n",
       "       'Fava beans (Papdi - Val)', 'Lima beans(Pavta)',\n",
       "       'Cluster Beans(Gavar)', 'Soyabean', 'Black eyed beans( chawli)',\n",
       "       'Kidney beans', 'pigeon peas(Toor Dal)', 'Moth bean(Matki)',\n",
       "       'Mung beans', 'Green Peas', 'Horse Gram(kulthi)', 'Black Gram',\n",
       "       'Rapeseed (Mohri)', 'Coriander seeds', 'Mustard seeds',\n",
       "       'sesame seed', 'Cumin seeds', 'Lentils(Masoor Dal)', 'Brinjal',\n",
       "       'Beetroot', 'Bitter Gourd', 'Bottle Gourd', 'Capsicum', 'Cabbage',\n",
       "       'Carrot', 'Cauliflower', 'Cucumber', 'Coriander leaves',\n",
       "       'Curry leaves', 'Drumstick – moringa', 'Chili', 'Lady Finger',\n",
       "       'Mushroom', 'Onion', 'Potato', 'Pumpkin', 'Radish', 'Olive',\n",
       "       'Sweet Potato', 'Fenugreek Leaf(methi)', 'Spinach', 'Ridgegourd',\n",
       "       'Gooseberry(Amla)', 'Jambun(Syzygium cumini)',\n",
       "       'Ziziphus mauritiana(Bor)', 'Garcinia indica(kokam)', 'Tamarind',\n",
       "       'Tapioca(Suran)', 'Garlic', 'Lemon', 'Tomato', 'Ash Gourd',\n",
       "       'Pineapple', 'Pomegranate', 'Banana', 'Mango', 'Grapes',\n",
       "       'Jackfruit', 'Guava', 'Water Melon', 'Musk Melon', 'Apricot',\n",
       "       'Apple', 'Chickoo', 'Custard apple', 'Dates', 'Figs', 'Orange',\n",
       "       'Papaya', 'Aniseed', 'Asafoetida', 'Bay Leaf', 'Black Pepper',\n",
       "       'Cardamom', 'Cinnamon', 'Cloves', 'Jaiphal(Nutmeg)', 'Ginger',\n",
       "       'Turmeric', 'Cashewnuts', 'Raisins', 'Coconut', 'Almond Nut',\n",
       "       'Arecanut', 'Pistachio Nut', 'Lemon Grass', 'Cotton', 'Jute',\n",
       "       'Coffee', 'Sunflower'], dtype=object)"
      ]
     },
     "execution_count": 5,
     "metadata": {},
     "output_type": "execute_result"
    }
   ],
   "source": [
    "fert1['Crop'].unique()"
   ]
  },
  {
   "cell_type": "code",
   "execution_count": null,
   "metadata": {},
   "outputs": [],
   "source": []
  }
 ],
 "metadata": {
  "kernelspec": {
   "display_name": "Python 3",
   "language": "python",
   "name": "python3"
  },
  "language_info": {
   "codemirror_mode": {
    "name": "ipython",
    "version": 3
   },
   "file_extension": ".py",
   "mimetype": "text/x-python",
   "name": "python",
   "nbconvert_exporter": "python",
   "pygments_lexer": "ipython3",
   "version": "3.7.6"
  }
 },
 "nbformat": 4,
 "nbformat_minor": 4
}
